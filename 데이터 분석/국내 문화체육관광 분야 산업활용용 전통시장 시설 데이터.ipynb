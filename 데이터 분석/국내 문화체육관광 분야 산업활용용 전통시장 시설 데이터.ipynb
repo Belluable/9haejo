{
 "cells": [
  {
   "cell_type": "code",
   "execution_count": 5,
   "id": "c9823873-dd51-4a69-9682-477a92fba23f",
   "metadata": {},
   "outputs": [],
   "source": [
    "import pandas as pd"
   ]
  },
  {
   "cell_type": "code",
   "execution_count": 6,
   "id": "7c2b890e-437c-48a1-a5dc-6af6b409f495",
   "metadata": {},
   "outputs": [
    {
     "data": {
      "text/html": [
       "<div>\n",
       "<style scoped>\n",
       "    .dataframe tbody tr th:only-of-type {\n",
       "        vertical-align: middle;\n",
       "    }\n",
       "\n",
       "    .dataframe tbody tr th {\n",
       "        vertical-align: top;\n",
       "    }\n",
       "\n",
       "    .dataframe thead th {\n",
       "        text-align: right;\n",
       "    }\n",
       "</style>\n",
       "<table border=\"1\" class=\"dataframe\">\n",
       "  <thead>\n",
       "    <tr style=\"text-align: right;\">\n",
       "      <th></th>\n",
       "      <th>ID</th>\n",
       "      <th>LCLAS_NM</th>\n",
       "      <th>MLSFC_NM</th>\n",
       "      <th>FCLTY_NM</th>\n",
       "      <th>CTPRVN_NM</th>\n",
       "      <th>SIGNGU_NM</th>\n",
       "      <th>LEGALDONG_CD</th>\n",
       "      <th>LEGALDONG_NM</th>\n",
       "      <th>ADSTRD_CD</th>\n",
       "      <th>ADSTRD_NM</th>\n",
       "      <th>...</th>\n",
       "      <th>HMPG_ADDR</th>\n",
       "      <th>TOILET_EXST_AT</th>\n",
       "      <th>PRKPLCE_EXST_AT</th>\n",
       "      <th>OPNNG_YEAR</th>\n",
       "      <th>TEL_NO</th>\n",
       "      <th>DATA_BASE_DE</th>\n",
       "      <th>LAST_CHG_DE</th>\n",
       "      <th>ORIGIN_NM</th>\n",
       "      <th>FILE_NM</th>\n",
       "      <th>BASE_DE</th>\n",
       "    </tr>\n",
       "  </thead>\n",
       "  <tbody>\n",
       "    <tr>\n",
       "      <th>0</th>\n",
       "      <td>KC483PO22N000000001</td>\n",
       "      <td>쇼핑</td>\n",
       "      <td>전통시장</td>\n",
       "      <td>강남시장</td>\n",
       "      <td>서울</td>\n",
       "      <td>강남구</td>\n",
       "      <td>1168010700</td>\n",
       "      <td>신사동</td>\n",
       "      <td>1168051000</td>\n",
       "      <td>신사동</td>\n",
       "      <td>...</td>\n",
       "      <td>NaN</td>\n",
       "      <td>Y</td>\n",
       "      <td>Y</td>\n",
       "      <td>1974</td>\n",
       "      <td>NaN</td>\n",
       "      <td>20220706</td>\n",
       "      <td>20220706</td>\n",
       "      <td>소상공인시장진흥공단</td>\n",
       "      <td>KC_483_DMSTC_MCST_TRNMKT_2022</td>\n",
       "      <td>20220706</td>\n",
       "    </tr>\n",
       "    <tr>\n",
       "      <th>1</th>\n",
       "      <td>KC483PO22N000000002</td>\n",
       "      <td>쇼핑</td>\n",
       "      <td>전통시장</td>\n",
       "      <td>신사상가</td>\n",
       "      <td>서울</td>\n",
       "      <td>강남구</td>\n",
       "      <td>1168011000</td>\n",
       "      <td>압구정동</td>\n",
       "      <td>1168054500</td>\n",
       "      <td>압구정동</td>\n",
       "      <td>...</td>\n",
       "      <td>NaN</td>\n",
       "      <td>Y</td>\n",
       "      <td>N</td>\n",
       "      <td>1976</td>\n",
       "      <td>NaN</td>\n",
       "      <td>20220706</td>\n",
       "      <td>20220706</td>\n",
       "      <td>소상공인시장진흥공단</td>\n",
       "      <td>KC_483_DMSTC_MCST_TRNMKT_2022</td>\n",
       "      <td>20220706</td>\n",
       "    </tr>\n",
       "    <tr>\n",
       "      <th>2</th>\n",
       "      <td>KC483PO22N000000003</td>\n",
       "      <td>쇼핑</td>\n",
       "      <td>전통시장</td>\n",
       "      <td>영동전통시장</td>\n",
       "      <td>서울</td>\n",
       "      <td>강남구</td>\n",
       "      <td>1168010800</td>\n",
       "      <td>논현동</td>\n",
       "      <td>1168052100</td>\n",
       "      <td>논현1동</td>\n",
       "      <td>...</td>\n",
       "      <td>NaN</td>\n",
       "      <td>Y</td>\n",
       "      <td>Y</td>\n",
       "      <td>2011</td>\n",
       "      <td>NaN</td>\n",
       "      <td>20220706</td>\n",
       "      <td>20220706</td>\n",
       "      <td>소상공인시장진흥공단</td>\n",
       "      <td>KC_483_DMSTC_MCST_TRNMKT_2022</td>\n",
       "      <td>20220706</td>\n",
       "    </tr>\n",
       "    <tr>\n",
       "      <th>3</th>\n",
       "      <td>KC483PO22N000000004</td>\n",
       "      <td>쇼핑</td>\n",
       "      <td>전통시장</td>\n",
       "      <td>청담삼익시장</td>\n",
       "      <td>서울</td>\n",
       "      <td>강남구</td>\n",
       "      <td>1168010400</td>\n",
       "      <td>청담동</td>\n",
       "      <td>1168056500</td>\n",
       "      <td>청담동</td>\n",
       "      <td>...</td>\n",
       "      <td>NaN</td>\n",
       "      <td>Y</td>\n",
       "      <td>Y</td>\n",
       "      <td>1980</td>\n",
       "      <td>NaN</td>\n",
       "      <td>20220706</td>\n",
       "      <td>20220706</td>\n",
       "      <td>소상공인시장진흥공단</td>\n",
       "      <td>KC_483_DMSTC_MCST_TRNMKT_2022</td>\n",
       "      <td>20220706</td>\n",
       "    </tr>\n",
       "    <tr>\n",
       "      <th>4</th>\n",
       "      <td>KC483PO22N000000005</td>\n",
       "      <td>쇼핑</td>\n",
       "      <td>전통시장</td>\n",
       "      <td>고분다리전통시장</td>\n",
       "      <td>서울</td>\n",
       "      <td>강동구</td>\n",
       "      <td>1174010900</td>\n",
       "      <td>천호동</td>\n",
       "      <td>1174060000</td>\n",
       "      <td>천호1동</td>\n",
       "      <td>...</td>\n",
       "      <td>NaN</td>\n",
       "      <td>Y</td>\n",
       "      <td>Y</td>\n",
       "      <td>2011</td>\n",
       "      <td>02-6227-0045</td>\n",
       "      <td>20220706</td>\n",
       "      <td>20220706</td>\n",
       "      <td>소상공인시장진흥공단</td>\n",
       "      <td>KC_483_DMSTC_MCST_TRNMKT_2022</td>\n",
       "      <td>20220706</td>\n",
       "    </tr>\n",
       "  </tbody>\n",
       "</table>\n",
       "<p>5 rows × 31 columns</p>\n",
       "</div>"
      ],
      "text/plain": [
       "                    ID LCLAS_NM MLSFC_NM  FCLTY_NM CTPRVN_NM SIGNGU_NM  \\\n",
       "0  KC483PO22N000000001       쇼핑     전통시장      강남시장        서울       강남구   \n",
       "1  KC483PO22N000000002       쇼핑     전통시장      신사상가        서울       강남구   \n",
       "2  KC483PO22N000000003       쇼핑     전통시장    영동전통시장        서울       강남구   \n",
       "3  KC483PO22N000000004       쇼핑     전통시장    청담삼익시장        서울       강남구   \n",
       "4  KC483PO22N000000005       쇼핑     전통시장  고분다리전통시장        서울       강동구   \n",
       "\n",
       "   LEGALDONG_CD LEGALDONG_NM   ADSTRD_CD ADSTRD_NM  ...  HMPG_ADDR  \\\n",
       "0    1168010700          신사동  1168051000       신사동  ...        NaN   \n",
       "1    1168011000         압구정동  1168054500      압구정동  ...        NaN   \n",
       "2    1168010800          논현동  1168052100      논현1동  ...        NaN   \n",
       "3    1168010400          청담동  1168056500       청담동  ...        NaN   \n",
       "4    1174010900          천호동  1174060000      천호1동  ...        NaN   \n",
       "\n",
       "  TOILET_EXST_AT  PRKPLCE_EXST_AT OPNNG_YEAR        TEL_NO  DATA_BASE_DE  \\\n",
       "0              Y                Y       1974           NaN      20220706   \n",
       "1              Y                N       1976           NaN      20220706   \n",
       "2              Y                Y       2011           NaN      20220706   \n",
       "3              Y                Y       1980           NaN      20220706   \n",
       "4              Y                Y       2011  02-6227-0045      20220706   \n",
       "\n",
       "  LAST_CHG_DE   ORIGIN_NM                        FILE_NM   BASE_DE  \n",
       "0    20220706  소상공인시장진흥공단  KC_483_DMSTC_MCST_TRNMKT_2022  20220706  \n",
       "1    20220706  소상공인시장진흥공단  KC_483_DMSTC_MCST_TRNMKT_2022  20220706  \n",
       "2    20220706  소상공인시장진흥공단  KC_483_DMSTC_MCST_TRNMKT_2022  20220706  \n",
       "3    20220706  소상공인시장진흥공단  KC_483_DMSTC_MCST_TRNMKT_2022  20220706  \n",
       "4    20220706  소상공인시장진흥공단  KC_483_DMSTC_MCST_TRNMKT_2022  20220706  \n",
       "\n",
       "[5 rows x 31 columns]"
      ]
     },
     "execution_count": 6,
     "metadata": {},
     "output_type": "execute_result"
    }
   ],
   "source": [
    "df_infra = pd.read_csv('국내 문화체육관광 분야 산업활용용 전통시장 시설 데이터.csv')\n",
    "df_infra.head(5)"
   ]
  },
  {
   "cell_type": "code",
   "execution_count": 7,
   "id": "b5acc283-fa35-4ac8-b1bc-e27f2dd33591",
   "metadata": {},
   "outputs": [
    {
     "name": "stdout",
     "output_type": "stream",
     "text": [
      "<class 'pandas.core.frame.DataFrame'>\n",
      "RangeIndex: 1401 entries, 0 to 1400\n",
      "Data columns (total 31 columns):\n",
      " #   Column           Non-Null Count  Dtype  \n",
      "---  ------           --------------  -----  \n",
      " 0   ID               1401 non-null   object \n",
      " 1   LCLAS_NM         1401 non-null   object \n",
      " 2   MLSFC_NM         1401 non-null   object \n",
      " 3   FCLTY_NM         1401 non-null   object \n",
      " 4   CTPRVN_NM        1401 non-null   object \n",
      " 5   SIGNGU_NM        1397 non-null   object \n",
      " 6   LEGALDONG_CD     1401 non-null   int64  \n",
      " 7   LEGALDONG_NM     1401 non-null   object \n",
      " 8   ADSTRD_CD        1401 non-null   int64  \n",
      " 9   ADSTRD_NM        1401 non-null   object \n",
      " 10  RDNMADR_CD       1400 non-null   float64\n",
      " 11  RDNMADR_NM       1401 non-null   object \n",
      " 12  ZIP_NO           1401 non-null   int64  \n",
      " 13  GID_CD           1401 non-null   object \n",
      " 14  FCLTY_LO         1401 non-null   float64\n",
      " 15  FCLTY_LA         1401 non-null   float64\n",
      " 16  MRKT_TY_NM       1401 non-null   object \n",
      " 17  MRKT_OPER_PD     1401 non-null   object \n",
      " 18  STORE_CO         1401 non-null   int64  \n",
      " 19  ADIT_DC          1401 non-null   object \n",
      " 20  USE_GCCT_CN      0 non-null      float64\n",
      " 21  HMPG_ADDR        70 non-null     object \n",
      " 22  TOILET_EXST_AT   1401 non-null   object \n",
      " 23  PRKPLCE_EXST_AT  1401 non-null   object \n",
      " 24  OPNNG_YEAR       1401 non-null   int64  \n",
      " 25  TEL_NO           889 non-null    object \n",
      " 26  DATA_BASE_DE     1401 non-null   int64  \n",
      " 27  LAST_CHG_DE      1401 non-null   int64  \n",
      " 28  ORIGIN_NM        1401 non-null   object \n",
      " 29  FILE_NM          1401 non-null   object \n",
      " 30  BASE_DE          1401 non-null   int64  \n",
      "dtypes: float64(4), int64(8), object(19)\n",
      "memory usage: 339.4+ KB\n"
     ]
    }
   ],
   "source": [
    "df_infra.info()"
   ]
  },
  {
   "cell_type": "markdown",
   "id": "4822c663-a495-4fcc-87fb-5c93bdb0ff60",
   "metadata": {},
   "source": []
  },
  {
   "cell_type": "code",
   "execution_count": 8,
   "id": "835dab87-477d-45dc-9a8a-26a59e414175",
   "metadata": {},
   "outputs": [
    {
     "data": {
      "text/plain": [
       "Index(['ID', 'LCLAS_NM', 'MLSFC_NM', 'FCLTY_NM', 'CTPRVN_NM', 'SIGNGU_NM',\n",
       "       'LEGALDONG_CD', 'LEGALDONG_NM', 'ADSTRD_CD', 'ADSTRD_NM', 'RDNMADR_CD',\n",
       "       'RDNMADR_NM', 'ZIP_NO', 'GID_CD', 'FCLTY_LO', 'FCLTY_LA', 'MRKT_TY_NM',\n",
       "       'MRKT_OPER_PD', 'STORE_CO', 'ADIT_DC', 'USE_GCCT_CN', 'HMPG_ADDR',\n",
       "       'TOILET_EXST_AT', 'PRKPLCE_EXST_AT', 'OPNNG_YEAR', 'TEL_NO',\n",
       "       'DATA_BASE_DE', 'LAST_CHG_DE', 'ORIGIN_NM', 'FILE_NM', 'BASE_DE'],\n",
       "      dtype='object')"
      ]
     },
     "execution_count": 8,
     "metadata": {},
     "output_type": "execute_result"
    }
   ],
   "source": [
    "df_infra.columns"
   ]
  },
  {
   "cell_type": "code",
   "execution_count": 9,
   "id": "df16f4a2-401f-4432-a115-e2dbabb9a75b",
   "metadata": {},
   "outputs": [
    {
     "data": {
      "text/plain": [
       "쇼핑    1401\n",
       "Name: LCLAS_NM, dtype: int64"
      ]
     },
     "execution_count": 9,
     "metadata": {},
     "output_type": "execute_result"
    }
   ],
   "source": [
    "# 대분류명\n",
    "df_infra['LCLAS_NM'].value_counts()"
   ]
  },
  {
   "cell_type": "code",
   "execution_count": 10,
   "id": "874a69cb-632d-4730-896b-20ead08ad9a6",
   "metadata": {},
   "outputs": [
    {
     "data": {
      "text/plain": [
       "전통시장    1401\n",
       "Name: MLSFC_NM, dtype: int64"
      ]
     },
     "execution_count": 10,
     "metadata": {},
     "output_type": "execute_result"
    }
   ],
   "source": [
    "# 중분류명\n",
    "df_infra['MLSFC_NM'].value_counts()"
   ]
  },
  {
   "cell_type": "code",
   "execution_count": 11,
   "id": "075a00c4-7330-4ead-b381-d971a9d5d6ac",
   "metadata": {},
   "outputs": [
    {
     "data": {
      "text/plain": [
       "중앙시장        12\n",
       "동부시장         5\n",
       "역전시장         4\n",
       "신흥시장         3\n",
       "신중앙시장        3\n",
       "            ..\n",
       "구월도매전통시장     1\n",
       "간석자유시장       1\n",
       "학익시장         1\n",
       "토지금고시장       1\n",
       "Team204      1\n",
       "Name: FCLTY_NM, Length: 1351, dtype: int64"
      ]
     },
     "execution_count": 11,
     "metadata": {},
     "output_type": "execute_result"
    }
   ],
   "source": [
    "# 시설명\n",
    "df_infra['FCLTY_NM'].value_counts()"
   ]
  },
  {
   "cell_type": "code",
   "execution_count": 12,
   "id": "0621d1b3-fd73-4692-bf4c-f0f102ad9c9d",
   "metadata": {},
   "outputs": [
    {
     "data": {
      "text/html": [
       "<div>\n",
       "<style scoped>\n",
       "    .dataframe tbody tr th:only-of-type {\n",
       "        vertical-align: middle;\n",
       "    }\n",
       "\n",
       "    .dataframe tbody tr th {\n",
       "        vertical-align: top;\n",
       "    }\n",
       "\n",
       "    .dataframe thead th {\n",
       "        text-align: right;\n",
       "    }\n",
       "</style>\n",
       "<table border=\"1\" class=\"dataframe\">\n",
       "  <thead>\n",
       "    <tr style=\"text-align: right;\">\n",
       "      <th></th>\n",
       "      <th>ID</th>\n",
       "      <th>LCLAS_NM</th>\n",
       "      <th>MLSFC_NM</th>\n",
       "      <th>FCLTY_NM</th>\n",
       "      <th>CTPRVN_NM</th>\n",
       "      <th>SIGNGU_NM</th>\n",
       "      <th>LEGALDONG_CD</th>\n",
       "      <th>LEGALDONG_NM</th>\n",
       "      <th>ADSTRD_CD</th>\n",
       "      <th>ADSTRD_NM</th>\n",
       "      <th>...</th>\n",
       "      <th>HMPG_ADDR</th>\n",
       "      <th>TOILET_EXST_AT</th>\n",
       "      <th>PRKPLCE_EXST_AT</th>\n",
       "      <th>OPNNG_YEAR</th>\n",
       "      <th>TEL_NO</th>\n",
       "      <th>DATA_BASE_DE</th>\n",
       "      <th>LAST_CHG_DE</th>\n",
       "      <th>ORIGIN_NM</th>\n",
       "      <th>FILE_NM</th>\n",
       "      <th>BASE_DE</th>\n",
       "    </tr>\n",
       "  </thead>\n",
       "  <tbody>\n",
       "    <tr>\n",
       "      <th>410</th>\n",
       "      <td>KC483PO22N000000411</td>\n",
       "      <td>쇼핑</td>\n",
       "      <td>전통시장</td>\n",
       "      <td>중앙시장</td>\n",
       "      <td>대구</td>\n",
       "      <td>북구</td>\n",
       "      <td>2723012600</td>\n",
       "      <td>태전동</td>\n",
       "      <td>2723072500</td>\n",
       "      <td>태전1동</td>\n",
       "      <td>...</td>\n",
       "      <td>NaN</td>\n",
       "      <td>Y</td>\n",
       "      <td>Y</td>\n",
       "      <td>2007</td>\n",
       "      <td>053-311-5803</td>\n",
       "      <td>20220706</td>\n",
       "      <td>20220706</td>\n",
       "      <td>소상공인시장진흥공단</td>\n",
       "      <td>KC_483_DMSTC_MCST_TRNMKT_2022</td>\n",
       "      <td>20220706</td>\n",
       "    </tr>\n",
       "    <tr>\n",
       "      <th>476</th>\n",
       "      <td>KC483PO22N000000477</td>\n",
       "      <td>쇼핑</td>\n",
       "      <td>전통시장</td>\n",
       "      <td>중앙시장</td>\n",
       "      <td>인천</td>\n",
       "      <td>동구</td>\n",
       "      <td>2814010300</td>\n",
       "      <td>송현동</td>\n",
       "      <td>2814055500</td>\n",
       "      <td>송현1.2동</td>\n",
       "      <td>...</td>\n",
       "      <td>NaN</td>\n",
       "      <td>N</td>\n",
       "      <td>Y</td>\n",
       "      <td>2009</td>\n",
       "      <td>032-766-5100</td>\n",
       "      <td>20220706</td>\n",
       "      <td>20220706</td>\n",
       "      <td>소상공인시장진흥공단</td>\n",
       "      <td>KC_483_DMSTC_MCST_TRNMKT_2022</td>\n",
       "      <td>20220706</td>\n",
       "    </tr>\n",
       "    <tr>\n",
       "      <th>603</th>\n",
       "      <td>KC483PO22N000000604</td>\n",
       "      <td>쇼핑</td>\n",
       "      <td>전통시장</td>\n",
       "      <td>중앙시장</td>\n",
       "      <td>경기</td>\n",
       "      <td>동두천시</td>\n",
       "      <td>4125010300</td>\n",
       "      <td>생연동</td>\n",
       "      <td>4125053500</td>\n",
       "      <td>중앙동</td>\n",
       "      <td>...</td>\n",
       "      <td>NaN</td>\n",
       "      <td>Y</td>\n",
       "      <td>Y</td>\n",
       "      <td>2005</td>\n",
       "      <td>031-861-6938</td>\n",
       "      <td>20220706</td>\n",
       "      <td>20220706</td>\n",
       "      <td>소상공인시장진흥공단</td>\n",
       "      <td>KC_483_DMSTC_MCST_TRNMKT_2022</td>\n",
       "      <td>20220706</td>\n",
       "    </tr>\n",
       "    <tr>\n",
       "      <th>674</th>\n",
       "      <td>KC483PO22N000000675</td>\n",
       "      <td>쇼핑</td>\n",
       "      <td>전통시장</td>\n",
       "      <td>중앙시장</td>\n",
       "      <td>경기</td>\n",
       "      <td>안성시</td>\n",
       "      <td>4155011700</td>\n",
       "      <td>서인동</td>\n",
       "      <td>4155052000</td>\n",
       "      <td>안성2동</td>\n",
       "      <td>...</td>\n",
       "      <td>NaN</td>\n",
       "      <td>Y</td>\n",
       "      <td>Y</td>\n",
       "      <td>2007</td>\n",
       "      <td>NaN</td>\n",
       "      <td>20220706</td>\n",
       "      <td>20220706</td>\n",
       "      <td>소상공인시장진흥공단</td>\n",
       "      <td>KC_483_DMSTC_MCST_TRNMKT_2022</td>\n",
       "      <td>20220706</td>\n",
       "    </tr>\n",
       "    <tr>\n",
       "      <th>681</th>\n",
       "      <td>KC483PO22N000000682</td>\n",
       "      <td>쇼핑</td>\n",
       "      <td>전통시장</td>\n",
       "      <td>중앙시장</td>\n",
       "      <td>경기</td>\n",
       "      <td>안양시 만안구</td>\n",
       "      <td>4117110100</td>\n",
       "      <td>안양동</td>\n",
       "      <td>4117154000</td>\n",
       "      <td>안양4동</td>\n",
       "      <td>...</td>\n",
       "      <td>NaN</td>\n",
       "      <td>Y</td>\n",
       "      <td>Y</td>\n",
       "      <td>1961</td>\n",
       "      <td>031-449-6047</td>\n",
       "      <td>20220706</td>\n",
       "      <td>20220706</td>\n",
       "      <td>소상공인시장진흥공단</td>\n",
       "      <td>KC_483_DMSTC_MCST_TRNMKT_2022</td>\n",
       "      <td>20220706</td>\n",
       "    </tr>\n",
       "    <tr>\n",
       "      <th>706</th>\n",
       "      <td>KC483PO22N000000707</td>\n",
       "      <td>쇼핑</td>\n",
       "      <td>전통시장</td>\n",
       "      <td>중앙시장</td>\n",
       "      <td>경기</td>\n",
       "      <td>평택시</td>\n",
       "      <td>4122011200</td>\n",
       "      <td>신장동</td>\n",
       "      <td>4122058000</td>\n",
       "      <td>신장2동</td>\n",
       "      <td>...</td>\n",
       "      <td>NaN</td>\n",
       "      <td>Y</td>\n",
       "      <td>Y</td>\n",
       "      <td>2005</td>\n",
       "      <td>031-668-8922</td>\n",
       "      <td>20220706</td>\n",
       "      <td>20220706</td>\n",
       "      <td>소상공인시장진흥공단</td>\n",
       "      <td>KC_483_DMSTC_MCST_TRNMKT_2022</td>\n",
       "      <td>20220706</td>\n",
       "    </tr>\n",
       "    <tr>\n",
       "      <th>722</th>\n",
       "      <td>KC483PO22N000000723</td>\n",
       "      <td>쇼핑</td>\n",
       "      <td>전통시장</td>\n",
       "      <td>중앙시장</td>\n",
       "      <td>강원</td>\n",
       "      <td>강릉시</td>\n",
       "      <td>4215010800</td>\n",
       "      <td>성남동</td>\n",
       "      <td>4215052000</td>\n",
       "      <td>중앙동</td>\n",
       "      <td>...</td>\n",
       "      <td>NaN</td>\n",
       "      <td>Y</td>\n",
       "      <td>Y</td>\n",
       "      <td>2008</td>\n",
       "      <td>033-648-4477</td>\n",
       "      <td>20220706</td>\n",
       "      <td>20220706</td>\n",
       "      <td>소상공인시장진흥공단</td>\n",
       "      <td>KC_483_DMSTC_MCST_TRNMKT_2022</td>\n",
       "      <td>20220706</td>\n",
       "    </tr>\n",
       "    <tr>\n",
       "      <th>811</th>\n",
       "      <td>KC483PO22N000000812</td>\n",
       "      <td>쇼핑</td>\n",
       "      <td>전통시장</td>\n",
       "      <td>중앙시장</td>\n",
       "      <td>충북</td>\n",
       "      <td>청주시 상당구</td>\n",
       "      <td>4311110300</td>\n",
       "      <td>북문로2가</td>\n",
       "      <td>4311152500</td>\n",
       "      <td>중앙동</td>\n",
       "      <td>...</td>\n",
       "      <td>NaN</td>\n",
       "      <td>Y</td>\n",
       "      <td>N</td>\n",
       "      <td>1980</td>\n",
       "      <td>043-256-7657</td>\n",
       "      <td>20220706</td>\n",
       "      <td>20220706</td>\n",
       "      <td>소상공인시장진흥공단</td>\n",
       "      <td>KC_483_DMSTC_MCST_TRNMKT_2022</td>\n",
       "      <td>20220706</td>\n",
       "    </tr>\n",
       "    <tr>\n",
       "      <th>912</th>\n",
       "      <td>KC483PO22N000000913</td>\n",
       "      <td>쇼핑</td>\n",
       "      <td>전통시장</td>\n",
       "      <td>중앙시장</td>\n",
       "      <td>전북</td>\n",
       "      <td>익산시</td>\n",
       "      <td>4514010100</td>\n",
       "      <td>창인동1가</td>\n",
       "      <td>4514052000</td>\n",
       "      <td>중앙동</td>\n",
       "      <td>...</td>\n",
       "      <td>NaN</td>\n",
       "      <td>Y</td>\n",
       "      <td>Y</td>\n",
       "      <td>2005</td>\n",
       "      <td>063-855-3479</td>\n",
       "      <td>20220706</td>\n",
       "      <td>20220706</td>\n",
       "      <td>소상공인시장진흥공단</td>\n",
       "      <td>KC_483_DMSTC_MCST_TRNMKT_2022</td>\n",
       "      <td>20220706</td>\n",
       "    </tr>\n",
       "    <tr>\n",
       "      <th>974</th>\n",
       "      <td>KC483PO22N000000975</td>\n",
       "      <td>쇼핑</td>\n",
       "      <td>전통시장</td>\n",
       "      <td>중앙시장</td>\n",
       "      <td>전남</td>\n",
       "      <td>순천시</td>\n",
       "      <td>4615012000</td>\n",
       "      <td>남내동</td>\n",
       "      <td>4615062000</td>\n",
       "      <td>중앙동</td>\n",
       "      <td>...</td>\n",
       "      <td>NaN</td>\n",
       "      <td>Y</td>\n",
       "      <td>Y</td>\n",
       "      <td>2008</td>\n",
       "      <td>NaN</td>\n",
       "      <td>20220706</td>\n",
       "      <td>20220706</td>\n",
       "      <td>소상공인시장진흥공단</td>\n",
       "      <td>KC_483_DMSTC_MCST_TRNMKT_2022</td>\n",
       "      <td>20220706</td>\n",
       "    </tr>\n",
       "    <tr>\n",
       "      <th>986</th>\n",
       "      <td>KC483PO22N000000987</td>\n",
       "      <td>쇼핑</td>\n",
       "      <td>전통시장</td>\n",
       "      <td>중앙시장</td>\n",
       "      <td>전남</td>\n",
       "      <td>여수시</td>\n",
       "      <td>4613010800</td>\n",
       "      <td>교동</td>\n",
       "      <td>4613057000</td>\n",
       "      <td>중앙동</td>\n",
       "      <td>...</td>\n",
       "      <td>NaN</td>\n",
       "      <td>Y</td>\n",
       "      <td>Y</td>\n",
       "      <td>1975</td>\n",
       "      <td>061-662-4313</td>\n",
       "      <td>20220706</td>\n",
       "      <td>20220706</td>\n",
       "      <td>소상공인시장진흥공단</td>\n",
       "      <td>KC_483_DMSTC_MCST_TRNMKT_2022</td>\n",
       "      <td>20220706</td>\n",
       "    </tr>\n",
       "    <tr>\n",
       "      <th>1358</th>\n",
       "      <td>KC483PO22N000001359</td>\n",
       "      <td>쇼핑</td>\n",
       "      <td>전통시장</td>\n",
       "      <td>중앙시장</td>\n",
       "      <td>경북</td>\n",
       "      <td>김천시</td>\n",
       "      <td>4715010300</td>\n",
       "      <td>모암동</td>\n",
       "      <td>4715051600</td>\n",
       "      <td>자산동</td>\n",
       "      <td>...</td>\n",
       "      <td>NaN</td>\n",
       "      <td>Y</td>\n",
       "      <td>Y</td>\n",
       "      <td>1953</td>\n",
       "      <td>NaN</td>\n",
       "      <td>20220706</td>\n",
       "      <td>20220706</td>\n",
       "      <td>소상공인시장진흥공단</td>\n",
       "      <td>KC_483_DMSTC_MCST_TRNMKT_2022</td>\n",
       "      <td>20220706</td>\n",
       "    </tr>\n",
       "  </tbody>\n",
       "</table>\n",
       "<p>12 rows × 31 columns</p>\n",
       "</div>"
      ],
      "text/plain": [
       "                       ID LCLAS_NM MLSFC_NM FCLTY_NM CTPRVN_NM SIGNGU_NM  \\\n",
       "410   KC483PO22N000000411       쇼핑     전통시장     중앙시장        대구        북구   \n",
       "476   KC483PO22N000000477       쇼핑     전통시장     중앙시장        인천        동구   \n",
       "603   KC483PO22N000000604       쇼핑     전통시장     중앙시장        경기      동두천시   \n",
       "674   KC483PO22N000000675       쇼핑     전통시장     중앙시장        경기       안성시   \n",
       "681   KC483PO22N000000682       쇼핑     전통시장     중앙시장        경기   안양시 만안구   \n",
       "706   KC483PO22N000000707       쇼핑     전통시장     중앙시장        경기       평택시   \n",
       "722   KC483PO22N000000723       쇼핑     전통시장     중앙시장        강원       강릉시   \n",
       "811   KC483PO22N000000812       쇼핑     전통시장     중앙시장        충북   청주시 상당구   \n",
       "912   KC483PO22N000000913       쇼핑     전통시장     중앙시장        전북       익산시   \n",
       "974   KC483PO22N000000975       쇼핑     전통시장     중앙시장        전남       순천시   \n",
       "986   KC483PO22N000000987       쇼핑     전통시장     중앙시장        전남       여수시   \n",
       "1358  KC483PO22N000001359       쇼핑     전통시장     중앙시장        경북       김천시   \n",
       "\n",
       "      LEGALDONG_CD LEGALDONG_NM   ADSTRD_CD ADSTRD_NM  ...  HMPG_ADDR  \\\n",
       "410     2723012600          태전동  2723072500      태전1동  ...        NaN   \n",
       "476     2814010300          송현동  2814055500    송현1.2동  ...        NaN   \n",
       "603     4125010300          생연동  4125053500       중앙동  ...        NaN   \n",
       "674     4155011700          서인동  4155052000      안성2동  ...        NaN   \n",
       "681     4117110100          안양동  4117154000      안양4동  ...        NaN   \n",
       "706     4122011200          신장동  4122058000      신장2동  ...        NaN   \n",
       "722     4215010800          성남동  4215052000       중앙동  ...        NaN   \n",
       "811     4311110300        북문로2가  4311152500       중앙동  ...        NaN   \n",
       "912     4514010100        창인동1가  4514052000       중앙동  ...        NaN   \n",
       "974     4615012000          남내동  4615062000       중앙동  ...        NaN   \n",
       "986     4613010800           교동  4613057000       중앙동  ...        NaN   \n",
       "1358    4715010300          모암동  4715051600       자산동  ...        NaN   \n",
       "\n",
       "     TOILET_EXST_AT  PRKPLCE_EXST_AT OPNNG_YEAR        TEL_NO  DATA_BASE_DE  \\\n",
       "410               Y                Y       2007  053-311-5803      20220706   \n",
       "476               N                Y       2009  032-766-5100      20220706   \n",
       "603               Y                Y       2005  031-861-6938      20220706   \n",
       "674               Y                Y       2007           NaN      20220706   \n",
       "681               Y                Y       1961  031-449-6047      20220706   \n",
       "706               Y                Y       2005  031-668-8922      20220706   \n",
       "722               Y                Y       2008  033-648-4477      20220706   \n",
       "811               Y                N       1980  043-256-7657      20220706   \n",
       "912               Y                Y       2005  063-855-3479      20220706   \n",
       "974               Y                Y       2008           NaN      20220706   \n",
       "986               Y                Y       1975  061-662-4313      20220706   \n",
       "1358              Y                Y       1953           NaN      20220706   \n",
       "\n",
       "     LAST_CHG_DE   ORIGIN_NM                        FILE_NM   BASE_DE  \n",
       "410     20220706  소상공인시장진흥공단  KC_483_DMSTC_MCST_TRNMKT_2022  20220706  \n",
       "476     20220706  소상공인시장진흥공단  KC_483_DMSTC_MCST_TRNMKT_2022  20220706  \n",
       "603     20220706  소상공인시장진흥공단  KC_483_DMSTC_MCST_TRNMKT_2022  20220706  \n",
       "674     20220706  소상공인시장진흥공단  KC_483_DMSTC_MCST_TRNMKT_2022  20220706  \n",
       "681     20220706  소상공인시장진흥공단  KC_483_DMSTC_MCST_TRNMKT_2022  20220706  \n",
       "706     20220706  소상공인시장진흥공단  KC_483_DMSTC_MCST_TRNMKT_2022  20220706  \n",
       "722     20220706  소상공인시장진흥공단  KC_483_DMSTC_MCST_TRNMKT_2022  20220706  \n",
       "811     20220706  소상공인시장진흥공단  KC_483_DMSTC_MCST_TRNMKT_2022  20220706  \n",
       "912     20220706  소상공인시장진흥공단  KC_483_DMSTC_MCST_TRNMKT_2022  20220706  \n",
       "974     20220706  소상공인시장진흥공단  KC_483_DMSTC_MCST_TRNMKT_2022  20220706  \n",
       "986     20220706  소상공인시장진흥공단  KC_483_DMSTC_MCST_TRNMKT_2022  20220706  \n",
       "1358    20220706  소상공인시장진흥공단  KC_483_DMSTC_MCST_TRNMKT_2022  20220706  \n",
       "\n",
       "[12 rows x 31 columns]"
      ]
     },
     "execution_count": 12,
     "metadata": {},
     "output_type": "execute_result"
    }
   ],
   "source": [
    "df_infra[df_infra['FCLTY_NM'] == '중앙시장']"
   ]
  },
  {
   "cell_type": "code",
   "execution_count": 13,
   "id": "8fd23dea-a9b3-4d83-94d8-ba40045713ef",
   "metadata": {},
   "outputs": [
    {
     "data": {
      "text/plain": [
       "서울         209\n",
       "부산         168\n",
       "경남         157\n",
       "경기         142\n",
       "경북         138\n",
       "대구         101\n",
       "전남          92\n",
       "강원          59\n",
       "충남          58\n",
       "전북          58\n",
       "충북          57\n",
       "인천          45\n",
       "울산          39\n",
       "대전          28\n",
       "광주          24\n",
       "제주특별자치도     22\n",
       "세종특별자치시      4\n",
       "Name: CTPRVN_NM, dtype: int64"
      ]
     },
     "execution_count": 13,
     "metadata": {},
     "output_type": "execute_result"
    }
   ],
   "source": [
    "# 시도명\n",
    "df_infra['CTPRVN_NM'].value_counts()"
   ]
  },
  {
   "cell_type": "code",
   "execution_count": 14,
   "id": "ab43c2af-6445-47cc-a27b-f3b7fdebbb01",
   "metadata": {},
   "outputs": [
    {
     "name": "stdout",
     "output_type": "stream",
     "text": [
      "중구         80\n",
      "동구         49\n",
      "남구         35\n",
      "서구         33\n",
      "북구         33\n",
      "부산진구       26\n",
      "달서구        23\n",
      "창원시 성산구    20\n",
      "수영구        18\n",
      "사상구        18\n",
      "Name: SIGNGU_NM, dtype: int64\n"
     ]
    }
   ],
   "source": [
    "# 시군구명\n",
    "# pd.set_option('display.max_rows', None)\n",
    "\n",
    "print(df_infra['SIGNGU_NM'].value_counts().head(10))"
   ]
  },
  {
   "cell_type": "code",
   "execution_count": 15,
   "id": "62ea9a6f-602f-4115-a842-14fb65c18032",
   "metadata": {},
   "outputs": [
    {
     "data": {
      "text/plain": [
       "대명동    12\n",
       "중앙동    11\n",
       "신당동    11\n",
       "제기동     9\n",
       "대신동     9\n",
       "신림동     9\n",
       "수유동     8\n",
       "부전동     8\n",
       "수내동     7\n",
       "화곡동     7\n",
       "Name: LEGALDONG_NM, dtype: int64"
      ]
     },
     "execution_count": 15,
     "metadata": {},
     "output_type": "execute_result"
    }
   ],
   "source": [
    "# 법정동이름\n",
    "df_infra['LEGALDONG_NM'].value_counts().head(10)"
   ]
  },
  {
   "cell_type": "code",
   "execution_count": 16,
   "id": "c296ce45-e73e-497a-aabe-f52fdd3cd21f",
   "metadata": {},
   "outputs": [
    {
     "data": {
      "text/plain": [
       "중앙동     65\n",
       "신당동     10\n",
       "제기동      9\n",
       "칠성동      8\n",
       "대신동      8\n",
       "오동동      7\n",
       "양동       7\n",
       "영주1동     7\n",
       "부전1동     7\n",
       "금산읍      7\n",
       "Name: ADSTRD_NM, dtype: int64"
      ]
     },
     "execution_count": 16,
     "metadata": {},
     "output_type": "execute_result"
    }
   ],
   "source": [
    "# 행정동이름\n",
    "df_infra['ADSTRD_NM'].value_counts().head(10)"
   ]
  },
  {
   "cell_type": "code",
   "execution_count": 17,
   "id": "d9c35d23-5d07-41cf-9624-45c9808fcb8e",
   "metadata": {},
   "outputs": [
    {
     "data": {
      "text/plain": [
       "다사594534    3\n",
       "다사630516    3\n",
       "다사575521    3\n",
       "라마974641    3\n",
       "다바938146    3\n",
       "라라150410    3\n",
       "다사491331    2\n",
       "다사551365    2\n",
       "다사564524    2\n",
       "마마008627    2\n",
       "Name: GID_CD, dtype: int64"
      ]
     },
     "execution_count": 17,
     "metadata": {},
     "output_type": "execute_result"
    }
   ],
   "source": [
    "# 격자코드 -> 100m 격자코드\n",
    "df_infra['GID_CD'].value_counts().head(10)"
   ]
  },
  {
   "cell_type": "code",
   "execution_count": 18,
   "id": "27a20866-52b4-4919-8e81-829475803fa0",
   "metadata": {},
   "outputs": [
    {
     "data": {
      "text/plain": [
       "상설장        1014\n",
       "상설장+5일장     230\n",
       "5일장         156\n",
       "상설장+3일장       1\n",
       "Name: MRKT_TY_NM, dtype: int64"
      ]
     },
     "execution_count": 18,
     "metadata": {},
     "output_type": "execute_result"
    }
   ],
   "source": [
    "# 시장유형명\n",
    "df_infra['MRKT_TY_NM'].value_counts().head(10)"
   ]
  },
  {
   "cell_type": "code",
   "execution_count": 19,
   "id": "e9a8f2cb-a7b6-4d70-a17d-fe0f857a9c80",
   "metadata": {},
   "outputs": [
    {
     "data": {
      "text/plain": [
       "매일             1014\n",
       "3일+8일            79\n",
       "4일+9일            79\n",
       "2일+7일            77\n",
       "5일+10일           75\n",
       "1일+6일            67\n",
       "5일                2\n",
       "10일+5일            2\n",
       "2일+4일+7일+9일       1\n",
       "7일                1\n",
       "Name: MRKT_OPER_PD, dtype: int64"
      ]
     },
     "execution_count": 19,
     "metadata": {},
     "output_type": "execute_result"
    }
   ],
   "source": [
    "# 시장운영기간\n",
    "df_infra['MRKT_OPER_PD'].value_counts().head(10)"
   ]
  },
  {
   "cell_type": "code",
   "execution_count": 20,
   "id": "14d87232-1f56-49a1-b5b7-15d022e1ea40",
   "metadata": {},
   "outputs": [
    {
     "data": {
      "text/plain": [
       "농산물+축산물+수산물+가공식품+기타소매업       174\n",
       "농산물+축산물+수산물+가공식품+의류/신발       106\n",
       "농산물+축산물+수산물+의류/신발+기타소매업       70\n",
       "농산물+축산물+가공식품+의류/신발+기타소매업      45\n",
       "농산물+수산물+가공식품+의류/신발+기타소매업      41\n",
       "농산물+축산물+수산물+가공식품+음식점업         39\n",
       "농산물+축산물+수산물                   28\n",
       "농산물+축산물+수산물+음식점업+기타소매업        23\n",
       "농산물+축산물+수산물+가공식품              23\n",
       "농산물+가공식품+의류/신발+음식점업+기타소매업     19\n",
       "Name: ADIT_DC, dtype: int64"
      ]
     },
     "execution_count": 20,
     "metadata": {},
     "output_type": "execute_result"
    }
   ],
   "source": [
    "# 추가설명\n",
    "df_infra['ADIT_DC'].value_counts().head(10)"
   ]
  },
  {
   "cell_type": "code",
   "execution_count": 21,
   "id": "69c196ac-c1f0-414c-8756-e808649750b4",
   "metadata": {},
   "outputs": [
    {
     "data": {
      "text/plain": [
       "KC_483_DMSTC_MCST_TRNMKT_2022    1401\n",
       "Name: FILE_NM, dtype: int64"
      ]
     },
     "execution_count": 21,
     "metadata": {},
     "output_type": "execute_result"
    }
   ],
   "source": [
    "# 파일명 -> 무슨 파일인지 모르겠다.\n",
    "df_infra['FILE_NM'].value_counts().head(10)"
   ]
  },
  {
   "cell_type": "code",
   "execution_count": 22,
   "id": "0bc9d636-1f18-4283-9b7d-eaa3ac0f12d0",
   "metadata": {},
   "outputs": [
    {
     "data": {
      "text/plain": [
       "20220706    1401\n",
       "Name: BASE_DE, dtype: int64"
      ]
     },
     "execution_count": 22,
     "metadata": {},
     "output_type": "execute_result"
    }
   ],
   "source": [
    "# 기준일자\n",
    "\n",
    "df_infra['BASE_DE'].value_counts().head(10)"
   ]
  },
  {
   "cell_type": "code",
   "execution_count": 23,
   "id": "5ee4ea78-dc62-46ea-ba0b-3731752c399f",
   "metadata": {},
   "outputs": [
    {
     "data": {
      "text/plain": [
       "Series([], Name: USE_GCCT_CN, dtype: int64)"
      ]
     },
     "execution_count": 23,
     "metadata": {},
     "output_type": "execute_result"
    }
   ],
   "source": [
    "# 사용상품권\n",
    "\n",
    "df_infra['USE_GCCT_CN'].value_counts().head(10)"
   ]
  },
  {
   "cell_type": "code",
   "execution_count": null,
   "id": "1c1ad082-711b-48c9-96cb-679f532757c2",
   "metadata": {},
   "outputs": [],
   "source": []
  },
  {
   "cell_type": "markdown",
   "id": "792ca361-9e75-4d0e-ab61-9270bfce991c",
   "metadata": {},
   "source": [
    "- 사용상품권내용 : 내용없음\n",
    "- 홈페이지주소 : 70개밖에 없음\n",
    "- 화장실존재 : 889개 "
   ]
  }
 ],
 "metadata": {
  "kernelspec": {
   "display_name": "Python 3 (ipykernel)",
   "language": "python",
   "name": "python3"
  },
  "language_info": {
   "codemirror_mode": {
    "name": "ipython",
    "version": 3
   },
   "file_extension": ".py",
   "mimetype": "text/x-python",
   "name": "python",
   "nbconvert_exporter": "python",
   "pygments_lexer": "ipython3",
   "version": "3.9.13"
  }
 },
 "nbformat": 4,
 "nbformat_minor": 5
}
